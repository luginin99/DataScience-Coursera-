{
 "cells": [
  {
   "cell_type": "code",
   "execution_count": 1,
   "metadata": {},
   "outputs": [],
   "source": [
    "import numpy as np\n",
    "import re"
   ]
  },
  {
   "cell_type": "code",
   "execution_count": 2,
   "metadata": {},
   "outputs": [],
   "source": [
    "#чтение текста из файла, создание списка предложений\n",
    "with open (\"1_sentences.txt\", 'r') as f_obj:\n",
    "    text = f_obj.read().lower()\n",
    "\n",
    "lines = []    \n",
    "with open (\"1_sentences.txt\", 'r') as f_obj:\n",
    "    for line in f_obj.readlines():\n",
    "        lines.append(re.split('[^a-z]', line.lower()))\n",
    "\n",
    "number_of_lines = len(lines)"
   ]
  },
  {
   "cell_type": "code",
   "execution_count": 3,
   "metadata": {},
   "outputs": [],
   "source": [
    "#токенизация текста\n",
    "text = re.split('[^a-z]', text)"
   ]
  },
  {
   "cell_type": "code",
   "execution_count": 4,
   "metadata": {},
   "outputs": [],
   "source": [
    "#удаление пустых слов\n",
    "text = [word for word in text if word]"
   ]
  },
  {
   "cell_type": "code",
   "execution_count": 5,
   "metadata": {},
   "outputs": [],
   "source": [
    "#Создание словаря, который каждому слову сопоставляет число\n",
    "#подсчет различных слов в тексте\n",
    "words = {}\n",
    "i = 0\n",
    "for word in text:\n",
    "    if word not in words:\n",
    "        words [word] = i\n",
    "        i += 1\n",
    "\n",
    "number_of_different_words = len(words)"
   ]
  },
  {
   "cell_type": "code",
   "execution_count": 6,
   "metadata": {},
   "outputs": [],
   "source": [
    "#удаление пустых слов в предложениях\n",
    "for i in range(number_of_lines):\n",
    "    lines[i] = [word for word in lines[i] if word]"
   ]
  },
  {
   "cell_type": "code",
   "execution_count": 7,
   "metadata": {},
   "outputs": [],
   "source": [
    "#создание матрицы присутствия слов\n",
    "matrix = np.zeros((number_of_lines, number_of_different_words))\n",
    "for i in range(number_of_lines):\n",
    "    for word in lines[i]:\n",
    "        matrix[i, words[word]] +=1"
   ]
  },
  {
   "cell_type": "code",
   "execution_count": 8,
   "metadata": {},
   "outputs": [],
   "source": [
    "#вычисление косинусного расстояния\n",
    "cos_angle = [0]\n",
    "for i in range(1,22):\n",
    "    cos_angle.append(np.dot(matrix[0],matrix[i])/np.linalg.norm(matrix[0],ord= 2)/np.linalg.norm(matrix[i], ord = 2))"
   ]
  },
  {
   "cell_type": "code",
   "execution_count": 9,
   "metadata": {},
   "outputs": [],
   "source": [
    "#запись номеров двух предложений наиболее похожих на исходное предложение в файл (у исходного - номер 0)\n",
    "cos_angle = np.array(cos_angle)\n",
    "with open('submission-1.txt', 'w') as f_obj:\n",
    "    f_obj.write(str(cos_angle.argmax()) + ' ' + str(cos_angle[cos_angle < cos_angle.max()].argmax()))"
   ]
  }
 ],
 "metadata": {
  "kernelspec": {
   "display_name": "Python 2",
   "language": "python",
   "name": "python2"
  },
  "language_info": {
   "codemirror_mode": {
    "name": "ipython",
    "version": 2
   },
   "file_extension": ".py",
   "mimetype": "text/x-python",
   "name": "python",
   "nbconvert_exporter": "python",
   "pygments_lexer": "ipython2",
   "version": "2.7.16"
  }
 },
 "nbformat": 4,
 "nbformat_minor": 2
}
